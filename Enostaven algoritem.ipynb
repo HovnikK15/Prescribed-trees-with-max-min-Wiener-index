{
 "cells": [
  {
   "cell_type": "code",
   "execution_count": 1,
   "metadata": {
    "collapsed": false
   },
   "outputs": [
   ],
   "source": [
    "def drevesa(n): \n",
    "    t = graphs.trees(n)  \n",
    "    T= next(t)\n",
    "    k= []\n",
    "    k.append(T.edges())\n",
    "    for T in t:\n",
    "        m = T.edges()\n",
    "        k.append(m)\n",
    "    return k"
   ]
  },
  {
   "cell_type": "code",
   "execution_count": 2,
   "metadata": {
    "collapsed": false
   },
   "outputs": [
   ],
   "source": [
    "def drevesa_premer(n):\n",
    "    L = []\n",
    "    k = drevesa(n)\n",
    "    for i in range(len(k)):\n",
    "        premer1 = Graph(k[i]).diameter()\n",
    "        L.append([premer1, k[i]]) \n",
    "    from collections import defaultdict \n",
    "    d1 = defaultdict(list)\n",
    "    for l, v in L:\n",
    "        d1[l].append(v)\n",
    "    d = dict((l, tuple(v)) for l, v in d1.iteritems())\n",
    "    return d"
   ]
  },
  {
   "cell_type": "code",
   "execution_count": 3,
   "metadata": {
    "collapsed": false
   },
   "outputs": [
   ],
   "source": [
    "def max_Weinerindex(n,N):\n",
    "    d = drevesa_premer(n)\n",
    "    x = []\n",
    "    for i in range(len(d[N])): \n",
    "        x.append(Graph(d[N][i]).wiener_index()) \n",
    "    print 'drevesa,  na ', n, 'vozliščih, s premerom', N, 'imajo maksimalni Wiener index:', max(x)\n",
    "    for i in range(len(x)):\n",
    "        if x[i] == max(x):\n",
    "            Graph(d[N][i]).show() \n"
   ]
  },
  {
   "cell_type": "code",
   "execution_count": 4,
   "metadata": {
    "collapsed": false
   },
   "outputs": [
   ],
   "source": [
    "def max_stopnja(n): #funkcija, ki nam izpiše drevo z maksimalno stopnjo ter minimalnim W. indeksom\n",
    "    k = drevesa(n) #Min W. index nas zanima za drevesa s fiksno maksimalno stopnjo\n",
    "    zaporedje = []\n",
    "    for j in range(len(k)):\n",
    "        zaporedje.append(Graph(k[j]).degree_sequence())\n",
    "\n",
    "    for l in range(len(zaporedje)):\n",
    "        T = Graph(k[l])\n",
    "        if zaporedje[l] == max(zaporedje):\n",
    "            zap = T.degree_sequence()\n",
    "            w = T.wiener_index()\n",
    "            print 'drevesa, na', i, 'vozliščih, imajo max zaporedje:',zap,' ter minimalni Wiener index:', w\n",
    "            T.show()"
   ]
  },
  {
   "cell_type": "code",
   "execution_count": 5,
   "metadata": {
    "collapsed": false
   },
   "outputs": [
   ],
   "source": [
    "def vsa_z_max_stopnjo(n):  #iščemo minimalni W. index dreves z max stopnjo nekega vozlišča\n",
    "    #ubistvo so drevesa z minimalnem W. indeksom ravno tista, ki imajo max stopnjo vozlišča. Izgledajo kot zvezda\n",
    "    for i in IntegerRange(2,n+1,1):\n",
    "        k = drevesa(i) #Min W. index nas zanima za drevesa s fiksno maksimalno stopnjo\n",
    "        zaporedje = []\n",
    "        for j in range(len(k)):\n",
    "            zaporedje.append(Graph(k[j]).degree_sequence())\n",
    "            #print 'w.index', Graph(k[j]).wiener_index()  #če bi hotel, da mi izpiše vse w. indexe za ta drevesa\n",
    "        #print 'drevesa, na', i, 'vozliščih, imajo zaporedje:',zaporedje\n",
    "        for l in range(len(zaporedje)):\n",
    "            T = Graph(k[l])\n",
    "            if zaporedje[l] == max(zaporedje):\n",
    "                zap = T.degree_sequence()\n",
    "                w = T.wiener_index()\n",
    "                print 'drevesa, na', i, 'vozliščih, imajo max zaporedje:',zap,' ter minimalni Wiener index:', w\n",
    "                T.show()"
   ]
  },
  {
   "cell_type": "code",
   "execution_count": 6,
   "metadata": {
    "collapsed": false
   },
   "outputs": [
   ],
   "source": [
    "def fiksna_stopnja(n,m): \n",
    "    k = drevesa(n) \n",
    "    zaporedje = []\n",
    "    optimalna_drevesa = []\n",
    "    index = []\n",
    "    for j in range(len(k)):\n",
    "        zaporedje.append(Graph(k[j]).degree_sequence())\n",
    "\n",
    "    for l in range(len(zaporedje)):\n",
    "        T = Graph(k[l])\n",
    "        if max(zaporedje[l]) == m:\n",
    "            optimalna_drevesa.append(k[l])\n",
    "            index.append(T.wiener_index())\n",
    "    u = min(index)\n",
    "    pozicija = [i for i, j in enumerate(index) if j == u] \n",
    "    print 'Minimalni Wiener index s fiksno stopnjo', m,' je', u \n",
    "    return Graph(optimalna_drevesa[pozicija[0]]).plot()"
   ]
  },
  {
   "cell_type": "code",
   "execution_count": 0,
   "metadata": {
    "collapsed": false
   },
   "outputs": [
   ],
   "source": [
   ]
  },
  {
   "cell_type": "code",
   "execution_count": 0,
   "metadata": {
    "collapsed": false
   },
   "outputs": [
   ],
   "source": [
   ]
  },
  {
   "cell_type": "markdown",
   "metadata": {
    "collapsed": false
   },
   "source": [
   ]
  },
  {
   "cell_type": "code",
   "execution_count": 0,
   "metadata": {
    "collapsed": false
   },
   "outputs": [
   ],
   "source": [
   ]
  },
  {
   "cell_type": "code",
   "execution_count": 0,
   "metadata": {
    "collapsed": false
   },
   "outputs": [
   ],
   "source": [
   ]
  },
  {
   "cell_type": "code",
   "execution_count": 0,
   "metadata": {
    "collapsed": false
   },
   "outputs": [
   ],
   "source": [
   ]
  },
  {
   "cell_type": "code",
   "execution_count": 0,
   "metadata": {
    "collapsed": false
   },
   "outputs": [
   ],
   "source": [
   ]
  },
  {
   "cell_type": "code",
   "execution_count": 0,
   "metadata": {
    "collapsed": false
   },
   "outputs": [
   ],
   "source": [
   ]
  },
  {
   "cell_type": "code",
   "execution_count": 0,
   "metadata": {
    "collapsed": false
   },
   "outputs": [
   ],
   "source": [
   ]
  },
  {
   "cell_type": "code",
   "execution_count": 0,
   "metadata": {
    "collapsed": false
   },
   "outputs": [
   ],
   "source": [
   ]
  },
  {
   "cell_type": "code",
   "execution_count": 0,
   "metadata": {
    "collapsed": false
   },
   "outputs": [
   ],
   "source": [
   ]
  },
  {
   "cell_type": "code",
   "execution_count": 0,
   "metadata": {
    "collapsed": false
   },
   "outputs": [
   ],
   "source": [
   ]
  },
  {
   "cell_type": "code",
   "execution_count": 0,
   "metadata": {
    "collapsed": false
   },
   "outputs": [
   ],
   "source": [
   ]
  }
 ],
 "metadata": {
  "kernelspec": {
   "display_name": "SageMath (stable)",
   "language": "sagemath",
   "name": "sagemath"
  },
  "language_info": {
   "codemirror_mode": {
    "name": "ipython",
    "version": 2
   },
   "file_extension": ".py",
   "mimetype": "text/x-python",
   "name": "python",
   "nbconvert_exporter": "python",
   "pygments_lexer": "ipython2",
   "version": "2.7.15"
  }
 },
 "nbformat": 4,
 "nbformat_minor": 0
}