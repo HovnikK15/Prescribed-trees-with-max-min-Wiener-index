{
 "cells": [
  {
   "cell_type": "code",
   "execution_count": 1,
   "metadata": {
    "collapsed": false
   },
   "outputs": [
   ],
   "source": [
    "#Funkcija DREVESA nam izpiše seznam vseh dreves s številom vozlišč 'n'\n",
    "def drevesa(n): # drevesa na n vozliščih\n",
    "    t = graphs.trees(n)  #funkcija, ki generira drevesa na n vozliščih\n",
    "    T= next(t)\n",
    "    k= [] #definiramo prazen seznam, kamor se bodo shranjevala drevesa\n",
    "    k.append(T.edges())  #to je treba zato, ker naslednja funkcija deluje za vsako nasledno drevo in če tega ne naredimo, potem eno možnost izpustimo\n",
    "    for T in t:\n",
    "        m = T.edges()\n",
    "        k.append(m)\n",
    "    return k\n",
    "\n",
    "\n",
    "#Funkcija, ki mi izriše vsa drevesa  (nepotrebna)\n",
    "def graf_drevesa(n):\n",
    "    k = drevesa(n)  #ke je seznam vseh dreves, ki nam jih vrne prejšnja funkcija\n",
    "    for i in range(len(k)): #za vsako drevo = za vsak element seznama, izriši graf drevesa\n",
    "        H = Graph(k[i])\n",
    "        H.show()\n",
    "\n",
    "#Funkcija, ki mi izpiše slovarje dreves in njihovih premerov. Ključi teh slovarjev so premeri, vrednosti pa drevesa s tem premerom\n",
    "def drevesa_premer(n):\n",
    "    L = [] #definiramo prazen seznam, kamor se bodo shranjevali premeri\n",
    "    k = drevesa(n)\n",
    "    for i in range(len(k)):\n",
    "        premer1 = Graph(k[i]).diameter()\n",
    "        L.append([premer1, k[i]]) #L je seznam seznamov, kjer je prvi elemnt i-tega elemnta premer, drugi element pa je drevo s tem premerom\n",
    "    from collections import defaultdict   #to je neka funkcija, ki mi iz seznama l generira slovar d\n",
    "    #primer: l=[ [1, 'A'], [1, 'B'], [2, 'C'] ] ---> d = { 1:('A', 'B'), 2:('C',) }\n",
    "    #v našem primeru nam generira slovar, kjer so ključi premeri dreves, vrednosti pa so drevesa s tem premerom\n",
    "    d1 = defaultdict(list)\n",
    "    for l, v in L:\n",
    "        d1[l].append(v)\n",
    "    d = dict((l, tuple(v)) for l, v in d1.iteritems())\n",
    "    return d\n",
    "\n",
    "def graf_drevesa_premer(n): #Funkcija, ki mi izriše vsa drevesa iz prejšnjega slovarja\n",
    "    d = drevesa_premer(n)\n",
    "    for j in range(len(d)):\n",
    "        m = d.keys()[j]   #nam vrne ključ na j-tem mestu\n",
    "        #d[2] nam vrne vrednosti od ključa 2, zato moramo uporabiti d.keys..\n",
    "        print 'drevesa s premerom', m\n",
    "        for i in range(len(d[m])):\n",
    "            T =  Graph(d[m][i]) #za vsak i mi izpiše graf drevesa s premerom m\n",
    "            print 'Wiener index: ', T.wiener_index() #da nam izpiše W. indexse za vsa drevesa s premerom 'm'\n",
    "            T.show()\n",
    "\n",
    "\n",
    "def max_Weinerindex(n,N): #zanima nas max W. index za drevesa s fiksnim premerom 'N'. Premer mora biti manjši od števila vozlišč\n",
    "    d = drevesa_premer(n)\n",
    "    x = []\n",
    "    for i in range(len(d[N])): #za vse vrednosti s ključem 'N' (=s premerom 'N')\n",
    "        x.append(Graph(d[N][i]).wiener_index()) #x je seznam vseh W. indexov drevesa s premerom N\n",
    "    print 'drevesa,  na ', n, 'vozliščih, s premerom', N, 'imajo maksimalni Wiener index:', max(x)\n",
    "    for i in range(len(x)):\n",
    "        if x[i] == max(x):\n",
    "            Graph(d[N][i]).show() #želimo izrisati vsa drevesa, ki imajo max W. index\n",
    "\n",
    "def vsa_drevesa_do(n):  #funkcija, ki za vsa vozlišča do 'n' izpiše vsa drevesa z max W. indexom za vse premere\n",
    "    for i in IntegerRange(2,n+1,1):\n",
    "        d = drevesa_premer(i)\n",
    "        m = d.keys()\n",
    "        x = []\n",
    "        for j in range(len(m)):\n",
    "            N = m[j]\n",
    "            x = []\n",
    "            for p in range(len(d[N])):\n",
    "                x.append(Graph(d[N][p]).wiener_index())\n",
    "            print 'drevesa,  na ', i, 'vozliščih, s premerom', N, 'imajo maksimalni Wiener index:', max(x)\n",
    "            for l in range(len(x)):\n",
    "                if x[l] == max(x):\n",
    "                    Graph(d[N][l]).show()\n",
    "\n",
    "def max_stopnja(n): #funkcija, ki nam izpiše drevo z maksimalno stopnjo ter minimalnim W. indeksom\n",
    "    k = drevesa(n) #Min W. index nas zanima za drevesa s fiksno maksimalno stopnjo\n",
    "    zaporedje = []\n",
    "    for j in range(len(k)):\n",
    "        zaporedje.append(Graph(k[j]).degree_sequence())\n",
    "\n",
    "    for l in range(len(zaporedje)):\n",
    "        T = Graph(k[l])\n",
    "        if zaporedje[l] == max(zaporedje):\n",
    "            zap = T.degree_sequence()\n",
    "            w = T.wiener_index()\n",
    "            print 'drevesa, na', i, 'vozliščih, imajo max zaporedje:',zap,' ter minimalni Wiener index:', w\n",
    "            T.show()\n",
    "\n",
    "def vsa_z_max_stopnjo(n):  #iščemo minimalni W. index dreves z max stopnjo nekega vozlišča\n",
    "    #ubistvo so drevesa z minimalnem W. indeksom ravno tista, ki imajo max stopnjo vozlišča. Izgledajo kot zvezda\n",
    "    for i in IntegerRange(2,n+1,1):\n",
    "        k = drevesa(i) #Min W. index nas zanima za drevesa s fiksno maksimalno stopnjo\n",
    "        zaporedje = []\n",
    "        for j in range(len(k)):\n",
    "            zaporedje.append(Graph(k[j]).degree_sequence())\n",
    "            #print 'w.index', Graph(k[j]).wiener_index()  #če bi hotel, da mi izpiše vse w. indexe za ta drevesa\n",
    "        #print 'drevesa, na', i, 'vozliščih, imajo zaporedje:',zaporedje\n",
    "        for l in range(len(zaporedje)):\n",
    "            T = Graph(k[l])\n",
    "            if zaporedje[l] == max(zaporedje):\n",
    "                zap = T.degree_sequence()\n",
    "                w = T.wiener_index()\n",
    "                print 'drevesa, na', i, 'vozliščih, imajo max zaporedje:',zap,' ter minimalni Wiener index:', w\n",
    "                T.show()"
   ]
  },
  {
   "cell_type": "code",
   "execution_count": 0,
   "metadata": {
    "collapsed": false
   },
   "outputs": [
   ],
   "source": [
   ]
  },
  {
   "cell_type": "code",
   "execution_count": 0,
   "metadata": {
    "collapsed": false
   },
   "outputs": [
   ],
   "source": [
   ]
  }
 ],
 "metadata": {
  "kernelspec": {
   "display_name": "SageMath (stable)",
   "name": "sagemath"
  },
  "language_info": {
   "codemirror_mode": {
    "name": "ipython",
    "version": 2
   },
   "file_extension": ".py",
   "mimetype": "text/x-python",
   "name": "python",
   "nbconvert_exporter": "python",
   "pygments_lexer": "ipython2",
   "version": "2.7.15"
  }
 },
 "nbformat": 4,
 "nbformat_minor": 0
}