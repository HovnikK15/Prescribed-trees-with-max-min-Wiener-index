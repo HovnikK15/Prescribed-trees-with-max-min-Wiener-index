{
 "cells": [
  {
   "cell_type": "code",
   "execution_count": 1,
   "metadata": {
    "collapsed": false
   },
   "outputs": [
   ],
   "source": [
    "def seznam_slovarjev_dreves(st_vozlisc, max_stopnja=2): #ustvari seznam dreves, kjer je vsako drevo zapisano s slovarjem --> npr. drevo s stopnjo 7 ima zapis {0: [1, 2, 3, 4, 5, 6, 7]} \n",
    "    drevesa = graphs.trees(st_vozlisc)\n",
    "    seznam_dreves = []\n",
    "    seznam_slovarjev_dreves = []\n",
    "    for drevo in drevesa:\n",
    "        if drevo.degree_sequence()[0] == max_stopnja:\n",
    "            seznam_povezav_drevesa = drevo.edges()\n",
    "            seznam_dreves.append(seznam_povezav_drevesa)\n",
    "    for drevo in seznam_dreves:\n",
    "        seznam_drevo = []\n",
    "        for povezava in drevo:\n",
    "            povezava_drevo = []\n",
    "            vozlisce1 = povezava[0]\n",
    "            vozlisce2 = povezava[1]\n",
    "            povezava_drevo.append(vozlisce1)\n",
    "            povezava_drevo.append(vozlisce2)\n",
    "            seznam_drevo.append(povezava_drevo)\n",
    "        from collections import defaultdict   #to je neka funkcija, ki mi iz seznama l generira slovar d\n",
    "        slovar_drevo = defaultdict(list)\n",
    "        for l, v in seznam_drevo:  #seznam spravimo v slovar, da za vsako vozlišče, ki ima več povezav dobimo le en člen \n",
    "            slovar_drevo[l].append(v)\n",
    "            slovar = dict((l, v) for l, v in slovar_drevo.iteritems())\n",
    "        seznam_slovarjev_dreves.append(slovar)\n",
    "    return seznam_slovarjev_dreves"
   ]
  },
  {
   "cell_type": "code",
   "execution_count": 2,
   "metadata": {
    "collapsed": false
   },
   "outputs": [
   ],
   "source": [
    "def zacetna_populacija(st_vozlisc, max_stopnja): #ustvari zacetno populacijo, ki jo bomo potem razvijali (recimo, da je maksimalno 20 osebkov)\n",
    "    zacetna_populacija = []\n",
    "    seznam_slovarjev = seznam_slovarjev_dreves(st_vozlisc, max_stopnja)\n",
    "    if len(seznam_slovarjev) > 20:\n",
    "        zacetna_populacija = seznam_slovarjev[0:10] + seznam_slovarjev[-11:-1]\n",
    "    else:\n",
    "        zacetna_populacija = seznam_slovarjev\n",
    "    return zacetna_populacija"
   ]
  },
  {
   "cell_type": "code",
   "execution_count": 3,
   "metadata": {
    "collapsed": false
   },
   "outputs": [
   ],
   "source": [
    "def fitness(seznam_dreves): #iscemo iskano optimalno lastnost, se pravi Wienerjev indeks\n",
    "    index = 10000000000 #neko veliko število, da bojo naslednji indeksi zihr manjši\n",
    "    for drevo in seznam_dreves:\n",
    "        graf_drevesa = Graph(drevo)\n",
    "        if graf_drevesa.wiener_index() < index:\n",
    "            index = graf_drevesa.wiener_index()\n",
    "            drevo_min_index = drevo\n",
    "    return drevo_min_index "
   ]
  },
  {
   "cell_type": "code",
   "execution_count": 4,
   "metadata": {
    "collapsed": false
   },
   "outputs": [
   ],
   "source": [
    "def crossover(drevo1, drevo2): #del enega drevesa in drugega drevesa zdruzimo\n",
    "    seznam_dreves12 = []\n",
    "    seznam_slovarjev_dreves12 = []\n",
    "    kopija_drevo1 = Graph(drevo1)\n",
    "    kopija_drevo2 = Graph(drevo2)\n",
    "    kopija_drevo3 = Graph(drevo2)\n",
    "        \n",
    "    seznam_stopenj_drevo1 = kopija_drevo1.degree()\n",
    "    seznam_stopenj_drevo2 = kopija_drevo2.degree()\n",
    "\n",
    "    for i in range(0, kopija_drevo1.order()):\n",
    "        for j in range(0, kopija_drevo2.order()):\n",
    "            if seznam_stopenj_drevo1[i] == seznam_stopenj_drevo2[j] and seznam_stopenj_drevo1[i] == kopija_drevo3.degree_sequence()[0]: #iščemo v obeh drevesih vozlišči z max stopnji\n",
    "                u = i\n",
    "                x = j\n",
    "                for n in kopija_drevo1.neighbors(i): #pogledamo sosede vozlišč, ki imajo max stopnjo\n",
    "                    for m in kopija_drevo2.neighbors(j):\n",
    "                        v = n\n",
    "                        y = m\n",
    "\n",
    "                        kopija_drevo1.delete_edge(u, v) # pobrišemo povezavo v drevesu\n",
    "                        kopija_drevo2.delete_edge(x, y)\n",
    "\n",
    "                        kopija_drevo1_a = kopija_drevo1.subgraph(kopija_drevo1.connected_component_containing_vertex(u))\n",
    "                        kopija_drevo1_b = kopija_drevo1.subgraph(kopija_drevo1.connected_component_containing_vertex(v))\n",
    "                        kopija_drevo2_a = kopija_drevo2.subgraph(kopija_drevo2.connected_component_containing_vertex(x))\n",
    "                        kopija_drevo2_b = kopija_drevo2.subgraph(kopija_drevo2.connected_component_containing_vertex(y))\n",
    "                                                \n",
    "                        novo_drevo1 = kopija_drevo1_a.disjoint_union(kopija_drevo2_b)\n",
    "                        novo_drevo1.add_edge((0, u), (1, y))\n",
    "                        novo_drevo1.relabel()\n",
    "\n",
    "                        novo_drevo2 = kopija_drevo2_a.disjoint_union(kopija_drevo1_b)\n",
    "                        novo_drevo2.add_edge((0, x), (1, v))\n",
    "                        novo_drevo2.relabel()\n",
    "\n",
    "                        povezave_novo_drevo1 = novo_drevo1.edges()\n",
    "                        povezave_novo_drevo2 = novo_drevo2.edges()\n",
    "                        \n",
    "                        novo_drevo1.show()\n",
    "                        novo_drevo2.show()\n",
    "                        \n",
    "                        if novo_drevo1.degree_sequence()[0] == novo_drevo2.degree_sequence()[0] and novo_drevo1.degree_sequence()[0] == kopija_drevo3.degree_sequence()[0] and novo_drevo1.order() == novo_drevo2.order() and novo_drevo1.order() == kopija_drevo3.order():\n",
    "\n",
    "                            seznam_dreves12.append(povezave_novo_drevo1)\n",
    "                            seznam_dreves12.append(povezave_novo_drevo2)\n",
    "                            for drevo in seznam_dreves12:\n",
    "                                seznam_drevo = []\n",
    "                                for povezava in drevo:\n",
    "                                    povezava_drevo = []\n",
    "                                    vozlisce1 = povezava[0]\n",
    "                                    vozlisce2 = povezava[1]\n",
    "                                    povezava_drevo.append(vozlisce1)\n",
    "                                    povezava_drevo.append(vozlisce2)\n",
    "                                    seznam_drevo.append(povezava_drevo)\n",
    "                                from collections import defaultdict   #to je neka funkcija, ki mi iz seznama l generira slovar d\n",
    "                                slovar_drevo = defaultdict(list)\n",
    "                                for l, v in seznam_drevo:  #seznam spravimo v slovar, da za vsako vozlišče, ki ima več povezav dobimo le en člen \n",
    "                                    slovar_drevo[l].append(v)\n",
    "                                    slovar = dict((l, v) for l, v in slovar_drevo.iteritems())\n",
    "                                   \n",
    "                                seznam_slovarjev_dreves12.append(slovar)                                \n",
    "    return seznam_slovarjev_dreves12"
   ]
  },
  {
   "cell_type": "code",
   "execution_count": 5,
   "metadata": {
    "collapsed": false
   },
   "outputs": [
    {
     "ename": "SyntaxError",
     "evalue": "unexpected EOF while parsing (<ipython-input-5-64e771c3484c>, line 1)",
     "output_type": "error",
     "traceback": [
      "\u001b[0;36m  File \u001b[0;32m\"<ipython-input-5-64e771c3484c>\"\u001b[0;36m, line \u001b[0;32m1\u001b[0m\n\u001b[0;31m    def mutate(): #uvedba mutacije?\u001b[0m\n\u001b[0m                                   ^\u001b[0m\n\u001b[0;31mSyntaxError\u001b[0m\u001b[0;31m:\u001b[0m unexpected EOF while parsing\n"
     ]
    }
   ],
   "source": [
    "def mutate(): #uvedba mutacije?"
   ]
  },
  {
   "cell_type": "code",
   "execution_count": 6,
   "metadata": {
    "collapsed": false
   },
   "outputs": [
   ],
   "source": [
    "def nova_generacija(st_vozlisc, max_stopnja): #definira novo generacijo osebkov\n",
    "    zacetna_generacija = zacetna_populacija(st_vozlisc, max_stopnja)\n",
    "    nova_generacija = []\n",
    "    \n",
    "    if len(zacetna_generacija) == 1:\n",
    "        nova_generacija == zacetna_generacija\n",
    "    else:\n",
    "        for i in range(0, len(zacetna_generacija)//2):\n",
    "            for j in range(i, len(zacetna_generacija)):\n",
    "                novi_drevesi = crossover(zacetna_generacija[i], zacetna_generacija[j]) + [zacetna_generacija[i]] + [zacetna_generacija[j]]\n",
    "                drevo_min_indeksom = fitness(novi_drevesi)\n",
    "                nova_generacija.append(drevo_min_indeksom)\n",
    "                novi_drevesi.remove(drevo_min_indeksom)\n",
    "                nova_generacija.append(fitness(novi_drevesi))\n",
    "    return nova_generacija"
   ]
  },
  {
   "cell_type": "code",
   "execution_count": 7,
   "metadata": {
    "collapsed": false
   },
   "outputs": [
    {
     "ename": "IndentationError",
     "evalue": "expected an indented block (<ipython-input-7-f028788084b1>, line 8)",
     "output_type": "error",
     "traceback": [
      "\u001b[0;36m  File \u001b[0;32m\"<ipython-input-7-f028788084b1>\"\u001b[0;36m, line \u001b[0;32m8\u001b[0m\n\u001b[0;31m    while i < stevilo_korakov_iteracije:\u001b[0m\n\u001b[0m                                        ^\u001b[0m\n\u001b[0;31mIndentationError\u001b[0m\u001b[0;31m:\u001b[0m expected an indented block\n"
     ]
    }
   ],
   "source": [
    "def simulacija(): #še ni dokončana\n",
    "    #parametri\n",
    "    st_vozlisc = 12\n",
    "    max_stopnja = 4\n",
    "    stevilo_korakov_iteracije = 100\n",
    "    \n",
    "    i = 0\n",
    "    while i < stevilo_korakov_iteracije:"
   ]
  }
 ],
 "metadata": {
  "kernelspec": {
   "display_name": "SageMath (stable)",
   "language": "sagemath",
   "name": "sagemath"
  },
  "language_info": {
   "codemirror_mode": {
    "name": "ipython",
    "version": 2
   },
   "file_extension": ".py",
   "mimetype": "text/x-python",
   "name": "python",
   "nbconvert_exporter": "python",
   "pygments_lexer": "ipython2",
   "version": "2.7.15"
  }
 },
 "nbformat": 4,
 "nbformat_minor": 0
}